{
 "cells": [
  {
   "cell_type": "code",
   "execution_count": 20,
   "metadata": {},
   "outputs": [],
   "source": [
    "import face_recognition\n",
    "import cv2 \n",
    "import time\n",
    "from PIL import Image\n",
    "import numpy as np\n",
    "\n",
    "josh = face_recognition.load_image_file(\"./faces/josh.JPG\")\n",
    "josh_enc = face_recognition.face_encodings(josh)[0]\n",
    "\n",
    "cap = cv2.VideoCapture(0)  # Use 0 for default camera\n",
    "\n",
    "if not cap.isOpened():\n",
    "    print(\"Error: Could not open camera.\")\n",
    "\n",
    "last_inference_time = time.time()\n",
    "inference_interval = 5.0  # 2 seconds\n",
    "current_prediction = \"None yet\"\n",
    "\n",
    "while True:\n",
    "    ret, frame = cap.read()\n",
    "    if not ret:\n",
    "        print(\"Error: Failed to capture frame.\")\n",
    "        break\n",
    "\n",
    "    # Convert the BGR image to RGB\n",
    "    rgb_frame = cv2.cvtColor(frame, cv2.COLOR_BGR2RGB)   \n",
    "\n",
    "    # img = Image.fromarray(np.uint8(frame)).convert('RGB')\n",
    "\n",
    "    frame_enc = face_recognition.face_encodings(frame)\n",
    "    print(f\"Frame_enc: {frame_enc}\")\n",
    "    results = face_recognition.compare_faces([josh_enc], frame_enc)\n",
    "    \n",
    "    # cv2.putText(frame, current_prediction, (30, 80), cv2.FONT_HERSHEY_SIMPLEX, 3, (0, 0, 0), 2)\n",
    "    # cv2.imshow('Gesture Detection', frame)\n",
    "\n",
    "    # Press 'q' to exit the loop\n",
    "    if cv2.waitKey(1) & 0xFF == ord('q'):\n",
    "        break\n",
    "\n",
    "cap.release()\n",
    "cv2.destroyAllWindows()"
   ]
  },
  {
   "cell_type": "code",
   "execution_count": null,
   "metadata": {},
   "outputs": [],
   "source": []
  }
 ],
 "metadata": {
  "kernelspec": {
   "display_name": "Python 3",
   "language": "python",
   "name": "python3"
  },
  "language_info": {
   "codemirror_mode": {
    "name": "ipython",
    "version": 3
   },
   "file_extension": ".py",
   "mimetype": "text/x-python",
   "name": "python",
   "nbconvert_exporter": "python",
   "pygments_lexer": "ipython3",
   "version": "3.9.5"
  }
 },
 "nbformat": 4,
 "nbformat_minor": 2
}
