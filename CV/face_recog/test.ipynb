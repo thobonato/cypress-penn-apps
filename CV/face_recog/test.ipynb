{
 "cells": [
  {
   "cell_type": "code",
   "execution_count": 20,
   "metadata": {},
   "outputs": [],
   "source": [
    "from deepface import DeepFace\n",
    "import cv2 \n",
    "import time\n",
    "from PIL import Image\n",
    "import numpy as np\n",
    "\n",
    "josh_enc = DeepFace.represent(img_path = \"josh.JPG\")\n",
    "\n",
    "cap = cv2.VideoCapture(0)  # Use 0 for default camera\n",
    "\n",
    "if not cap.isOpened():\n",
    "    print(\"Error: Could not open camera.\")\n",
    "\n",
    "last_inference_time = time.time()\n",
    "inference_interval = 5.0  # 2 seconds\n",
    "current_prediction = \"None yet\"\n",
    "\n",
    "while True:\n",
    "    ret, frame = cap.read()\n",
    "    if not ret:\n",
    "        print(\"Error: Failed to capture frame.\")\n",
    "        break\n",
    "\n",
    "    # Convert the BGR image to RGB\n",
    "    rgb_frame = cv2.cvtColor(frame, cv2.COLOR_BGR2RGB)   \n",
    "\n",
    "    # img = Image.fromarray(np.uint8(frame)).convert('RGB')\n",
    "\n",
    "    # frame_enc = DeepFace.(frame)\n",
    "    # print(f\"Frame_enc: {frame_enc}\")\n",
    "    result = DeepFace.verify(\n",
    "        img1_path = \"./faces/trump.png\",\n",
    "        img2_path = \"./faces/josh.JPG\",\n",
    "        )\n",
    "    print(f\"Result: {result}\")\n",
    "    \n",
    "    # cv2.putText(frame, current_prediction, (30, 80), cv2.FONT_HERSHEY_SIMPLEX, 3, (0, 0, 0), 2)\n",
    "    # cv2.imshow('Gesture Detection', frame)\n",
    "\n",
    "    # Press 'q' to exit the loop\n",
    "    if cv2.waitKey(1) & 0xFF == ord('q'):\n",
    "        break\n",
    "\n",
    "cap.release()\n",
    "cv2.destroyAllWindows()"
   ]
  },
  {
   "cell_type": "code",
   "execution_count": null,
   "metadata": {},
   "outputs": [
    {
     "ename": "",
     "evalue": "",
     "output_type": "error",
     "traceback": [
      "\u001b[1;31mRunning cells with '.venv (Python 3.9.6)' requires the ipykernel package.\n",
      "\u001b[1;31mRun the following command to install 'ipykernel' into the Python environment. \n",
      "\u001b[1;31mCommand: '/Users/thomazbonato/Desktop/Hackathons/pennapps/Cypress/.venv/bin/python -m pip install ipykernel -U --force-reinstall'"
     ]
    }
   ],
   "source": [
    "from deepface import DeepFace\n",
    "\n",
    "# anti spoofing test in face detection\n",
    "face_objs = DeepFace.extract_faces(\n",
    "  img_path=\"faces/josh.JPG\",\n",
    "  anti_spoofing = True\n",
    ")"
   ]
  },
  {
   "cell_type": "code",
   "execution_count": null,
   "metadata": {},
   "outputs": [],
   "source": []
  }
 ],
 "metadata": {
  "kernelspec": {
   "display_name": "Python 3",
   "language": "python",
   "name": "python3"
  },
  "language_info": {
   "codemirror_mode": {
    "name": "ipython",
    "version": 3
   },
   "file_extension": ".py",
   "mimetype": "text/x-python",
   "name": "python",
   "nbconvert_exporter": "python",
   "pygments_lexer": "ipython3",
   "version": "3.9.6"
  }
 },
 "nbformat": 4,
 "nbformat_minor": 2
}
